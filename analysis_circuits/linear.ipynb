{
 "cells": [
  {
   "cell_type": "code",
   "execution_count": 1,
   "id": "ff186cb5",
   "metadata": {},
   "outputs": [],
   "source": [
    "def dot_product(u, v):\n",
    "\n",
    "  if len(u) == len(v):\n",
    "\n",
    "    # Standard inner product\n",
    "\n",
    "    return sum(x * y for x, y in zip(u, v))\n",
    "\n",
    "   \n",
    "\n",
    "  # Ensure u is the shorter vector\n",
    "\n",
    "  if len(u) > len(v):\n",
    "\n",
    "    u, v = v, u\n",
    "\n",
    "\n",
    "\n",
    "  m, n = len(u), len(v)\n",
    "\n",
    "  total = 0\n",
    "\n",
    "\n",
    "\n",
    "  # Compute all n inner products with periodic wrap-around\n",
    "\n",
    "  for offset in range(n):\n",
    "\n",
    "    inner = sum(u[i] * v[(i + offset) % n] for i in range(m))\n",
    "\n",
    "    total += inner\n",
    "\n",
    "\n",
    "\n",
    "  return total / n"
   ]
  },
  {
   "cell_type": "code",
   "execution_count": 4,
   "id": "119071b1",
   "metadata": {},
   "outputs": [
    {
     "name": "stdout",
     "output_type": "stream",
     "text": [
      "41.25\n"
     ]
    }
   ],
   "source": [
    "print(dot_product([1, 2, 4,4], [4, 5, 6]))  "
   ]
  },
  {
   "cell_type": "code",
   "execution_count": null,
   "id": "81f364be",
   "metadata": {},
   "outputs": [],
   "source": []
  }
 ],
 "metadata": {
  "kernelspec": {
   "display_name": "env_jax_new",
   "language": "python",
   "name": "python3"
  },
  "language_info": {
   "codemirror_mode": {
    "name": "ipython",
    "version": 3
   },
   "file_extension": ".py",
   "mimetype": "text/x-python",
   "name": "python",
   "nbconvert_exporter": "python",
   "pygments_lexer": "ipython3",
   "version": "3.9.21"
  }
 },
 "nbformat": 4,
 "nbformat_minor": 5
}
